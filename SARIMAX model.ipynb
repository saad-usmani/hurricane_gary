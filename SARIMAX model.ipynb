{
 "cells": [
  {
   "cell_type": "code",
   "execution_count": 1,
   "metadata": {},
   "outputs": [],
   "source": [
    "import warnings\n",
    "import itertools\n",
    "from collections import namedtuple"
   ]
  },
  {
   "cell_type": "code",
   "execution_count": 2,
   "metadata": {},
   "outputs": [],
   "source": [
    "import pandas as pd\n",
    "import numpy as np"
   ]
  },
  {
   "cell_type": "code",
   "execution_count": 3,
   "metadata": {},
   "outputs": [],
   "source": [
    "import statsmodels.api as sm"
   ]
  },
  {
   "cell_type": "code",
   "execution_count": 4,
   "metadata": {},
   "outputs": [],
   "source": [
    "import matplotlib.pyplot as plt"
   ]
  },
  {
   "cell_type": "code",
   "execution_count": 5,
   "metadata": {},
   "outputs": [
    {
     "name": "stdout",
     "output_type": "stream",
     "text": [
      "<class 'pandas.core.frame.DataFrame'>\n",
      "RangeIndex: 5280 entries, 0 to 5279\n",
      "Data columns (total 16 columns):\n",
      "id                 5280 non-null object\n",
      "Name               5280 non-null object\n",
      "Date_string        5280 non-null object\n",
      "Time_string        5280 non-null object\n",
      "Event              5280 non-null object\n",
      "Status             5280 non-null object\n",
      "Latitude           5280 non-null float64\n",
      "Longitude          5278 non-null float64\n",
      "MaxiumWind         5280 non-null int64\n",
      "MinimumPressure    5280 non-null int64\n",
      "Date               5280 non-null object\n",
      "sst                4937 non-null float64\n",
      "Lat                5280 non-null int64\n",
      "Long               5280 non-null int64\n",
      "oni_score          5280 non-null float64\n",
      "oni_flag           5280 non-null int64\n",
      "dtypes: float64(4), int64(5), object(7)\n",
      "memory usage: 660.1+ KB\n"
     ]
    }
   ],
   "source": [
    "data = pd.read_csv(\"hurricanes_augmented.csv\", dtype={\"Date_string\": np.object_, \"Time_string\": np.object_})\n",
    "data.info()"
   ]
  },
  {
   "cell_type": "code",
   "execution_count": 6,
   "metadata": {},
   "outputs": [],
   "source": [
    "data[\"Time_string\"] = data[\"Time_string\"].str.pad(width=4, fillchar='0')\n",
    "data[\"timestamp\"] = pd.to_datetime(data[\"Date_string\"] + \" \" + data[\"Time_string\"], format=\"%Y%m%d %H\")"
   ]
  },
  {
   "cell_type": "code",
   "execution_count": 7,
   "metadata": {},
   "outputs": [],
   "source": [
    "data[\"Name\"] = data[\"Name\"].str.strip()"
   ]
  },
  {
   "cell_type": "code",
   "execution_count": 8,
   "metadata": {},
   "outputs": [],
   "source": [
    "data = data[[\"id\", \"Name\", \"timestamp\", \"Status\", \"Latitude\", \"Longitude\", \"MaxiumWind\", \"MinimumPressure\", \"sst\"]]"
   ]
  },
  {
   "cell_type": "code",
   "execution_count": 9,
   "metadata": {},
   "outputs": [],
   "source": [
    "data.columns = [\"id\", \"name\", \"timestamp\", \"status\", \"latitude\", \"longitude\", \"wind_kt\", \"min_pressure_mbar\", \"sea_temp_degc\"]"
   ]
  },
  {
   "cell_type": "code",
   "execution_count": 10,
   "metadata": {},
   "outputs": [],
   "source": [
    "# NHC makes regular observations *plus* observations at landfall. Let's get only the regular observations.\n",
    "data = data[data.timestamp.dt.hour.isin([0, 6, 12, 18])]"
   ]
  },
  {
   "cell_type": "code",
   "execution_count": 11,
   "metadata": {},
   "outputs": [
    {
     "data": {
      "text/html": [
       "<div>\n",
       "<style scoped>\n",
       "    .dataframe tbody tr th:only-of-type {\n",
       "        vertical-align: middle;\n",
       "    }\n",
       "\n",
       "    .dataframe tbody tr th {\n",
       "        vertical-align: top;\n",
       "    }\n",
       "\n",
       "    .dataframe thead th {\n",
       "        text-align: right;\n",
       "    }\n",
       "</style>\n",
       "<table border=\"1\" class=\"dataframe\">\n",
       "  <thead>\n",
       "    <tr style=\"text-align: right;\">\n",
       "      <th></th>\n",
       "      <th>id</th>\n",
       "      <th>name</th>\n",
       "      <th>timestamp</th>\n",
       "      <th>status</th>\n",
       "      <th>latitude</th>\n",
       "      <th>longitude</th>\n",
       "      <th>wind_kt</th>\n",
       "      <th>min_pressure_mbar</th>\n",
       "      <th>sea_temp_degc</th>\n",
       "    </tr>\n",
       "  </thead>\n",
       "  <tbody>\n",
       "    <tr>\n",
       "      <th>0</th>\n",
       "      <td>AL012007</td>\n",
       "      <td>ANDREA</td>\n",
       "      <td>2007-05-06 12:00:00</td>\n",
       "      <td>EX</td>\n",
       "      <td>35.5</td>\n",
       "      <td>-74.0</td>\n",
       "      <td>35</td>\n",
       "      <td>1012</td>\n",
       "      <td>22.991250</td>\n",
       "    </tr>\n",
       "    <tr>\n",
       "      <th>1</th>\n",
       "      <td>AL012007</td>\n",
       "      <td>ANDREA</td>\n",
       "      <td>2007-05-06 18:00:00</td>\n",
       "      <td>EX</td>\n",
       "      <td>35.0</td>\n",
       "      <td>-73.0</td>\n",
       "      <td>40</td>\n",
       "      <td>1009</td>\n",
       "      <td>21.806250</td>\n",
       "    </tr>\n",
       "    <tr>\n",
       "      <th>2</th>\n",
       "      <td>AL012007</td>\n",
       "      <td>ANDREA</td>\n",
       "      <td>2007-05-07 00:00:00</td>\n",
       "      <td>EX</td>\n",
       "      <td>34.3</td>\n",
       "      <td>-71.7</td>\n",
       "      <td>50</td>\n",
       "      <td>1005</td>\n",
       "      <td>21.414999</td>\n",
       "    </tr>\n",
       "    <tr>\n",
       "      <th>3</th>\n",
       "      <td>AL012007</td>\n",
       "      <td>ANDREA</td>\n",
       "      <td>2007-05-07 06:00:00</td>\n",
       "      <td>EX</td>\n",
       "      <td>33.3</td>\n",
       "      <td>-72.3</td>\n",
       "      <td>65</td>\n",
       "      <td>998</td>\n",
       "      <td>20.699999</td>\n",
       "    </tr>\n",
       "    <tr>\n",
       "      <th>4</th>\n",
       "      <td>AL012007</td>\n",
       "      <td>ANDREA</td>\n",
       "      <td>2007-05-07 12:00:00</td>\n",
       "      <td>EX</td>\n",
       "      <td>32.3</td>\n",
       "      <td>-73.1</td>\n",
       "      <td>65</td>\n",
       "      <td>998</td>\n",
       "      <td>20.180624</td>\n",
       "    </tr>\n",
       "  </tbody>\n",
       "</table>\n",
       "</div>"
      ],
      "text/plain": [
       "         id    name           timestamp status  latitude  longitude  wind_kt  \\\n",
       "0  AL012007  ANDREA 2007-05-06 12:00:00     EX      35.5      -74.0       35   \n",
       "1  AL012007  ANDREA 2007-05-06 18:00:00     EX      35.0      -73.0       40   \n",
       "2  AL012007  ANDREA 2007-05-07 00:00:00     EX      34.3      -71.7       50   \n",
       "3  AL012007  ANDREA 2007-05-07 06:00:00     EX      33.3      -72.3       65   \n",
       "4  AL012007  ANDREA 2007-05-07 12:00:00     EX      32.3      -73.1       65   \n",
       "\n",
       "   min_pressure_mbar  sea_temp_degc  \n",
       "0               1012      22.991250  \n",
       "1               1009      21.806250  \n",
       "2               1005      21.414999  \n",
       "3                998      20.699999  \n",
       "4                998      20.180624  "
      ]
     },
     "execution_count": 11,
     "metadata": {},
     "output_type": "execute_result"
    }
   ],
   "source": [
    "data.head()"
   ]
  },
  {
   "cell_type": "code",
   "execution_count": 11,
   "metadata": {},
   "outputs": [],
   "source": [
    "# next steps:\n",
    "# do this as a big pandas groupby\n",
    "# for key, group in data.groupby(\"id\"):\n",
    "#     print(key)\n",
    "#     hurricane = group.copy()\n",
    "    \n",
    "#     # There are other observations that don't occur on a regular schedule. Ignore any tropical event with those observations.\n",
    "#     try:\n",
    "#         date_index = pd.DatetimeIndex(hurricane[\"timestamp\"], freq=\"6H\")\n",
    "#     except ValueError as e:\n",
    "#         print(e)\n",
    "#         continue # Reminder: \"continue\" means skip everything else and go to the next item in the loop\n",
    "#     hurricane = hurricane.set_index(date_index)\n",
    "    \n",
    "    \n",
    "#     max_seasonality_frequency = 10\n",
    "    \n",
    "#     # Ignore hurricanes that do not have at least 10 observations\n",
    "#     if hurricane.shape[0] <= max_seasonality_frequency:\n",
    "#         continue\n",
    "#     decomposition = sm.tsa.seasonal_decompose(hurricane[['min_pressure_mbar']], freq=max_seasonality_frequency)\n",
    "#     ax = decomposition.plot()\n",
    "#     plt.show()"
   ]
  },
  {
   "cell_type": "code",
   "execution_count": 97,
   "metadata": {},
   "outputs": [
    {
     "name": "stdout",
     "output_type": "stream",
     "text": [
      "Examples of parameter combinations for Seasonal ARIMA...\n",
      "SARIMAX: (0, 0, 1) x (0, 0, 1, 7)\n",
      "SARIMAX: (0, 0, 1) x (0, 0, 2, 7)\n",
      "SARIMAX: (0, 0, 2) x (0, 1, 0, 7)\n",
      "SARIMAX: (0, 0, 2) x (0, 1, 1, 7)\n"
     ]
    }
   ],
   "source": [
    "# I am using machine learning to get the best model for the new prediction target\n",
    "\n",
    "# Define the p, d and q parameters to take any value between 0 and 2\n",
    "p = d = q = range(0, 2 + 1)\n",
    "\n",
    "# Generate all different combinations of p, q and q triplets\n",
    "pdq = list(itertools.product(p, d, q))\n",
    "\n",
    "# Generate all different combinations of seasonal p, q and q triplets\n",
    "seasonal_pdq = [(x[0], x[1], x[2], 7) for x in list(itertools.product(p, d, q))]\n",
    "\n",
    "print('Examples of parameter combinations for Seasonal ARIMA...')\n",
    "print('SARIMAX: {} x {}'.format(pdq[1], seasonal_pdq[1]))\n",
    "print('SARIMAX: {} x {}'.format(pdq[1], seasonal_pdq[2]))\n",
    "print('SARIMAX: {} x {}'.format(pdq[2], seasonal_pdq[3]))\n",
    "print('SARIMAX: {} x {}'.format(pdq[2], seasonal_pdq[4]))"
   ]
  },
  {
   "cell_type": "code",
   "execution_count": 98,
   "metadata": {},
   "outputs": [],
   "source": [
    "ModelSelectionResults = namedtuple('ModelSelectionResults', [\"order\", \"seasonal_order\", \"aic\"])"
   ]
  },
  {
   "cell_type": "markdown",
   "metadata": {},
   "source": [
    "## Model Selection  \n",
    "(Warning! Takes forever if your order > 1. Just skip this section)"
   ]
  },
  {
   "cell_type": "code",
   "execution_count": null,
   "metadata": {},
   "outputs": [
    {
     "name": "stdout",
     "output_type": "stream",
     "text": [
      "AL012007\n",
      "Best Model: ModelSelectionResults(order=(0, 2, 0), seasonal_order=(2, 2, 0, 7), aic=-12.72047050346793)\n",
      "324 maxlag errors\n",
      "AL012008\n",
      "too short!\n",
      "AL012009\n",
      "Best Model: ModelSelectionResults(order=(0, 0, 0), seasonal_order=(2, 0, 0, 7), aic=-50.772780461745946)\n",
      "550 maxlag errors\n",
      "1 linalg errors\n",
      "AL012010\n",
      "Best Model: ModelSelectionResults(order=(0, 0, 1), seasonal_order=(2, 2, 0, 7), aic=-14.846018565797745)\n",
      "360 maxlag errors\n",
      "AL012011\n",
      "Best Model: ModelSelectionResults(order=(2, 1, 0), seasonal_order=(1, 0, 0, 7), aic=-29.142776338228217)\n",
      "657 maxlag errors\n",
      "AL012012\n",
      "Best Model: ModelSelectionResults(order=(2, 1, 0), seasonal_order=(2, 0, 0, 7), aic=-41.69059970240963)\n",
      "576 maxlag errors\n",
      "AL012013\n",
      "Best Model: ModelSelectionResults(order=(2, 1, 0), seasonal_order=(1, 0, 0, 7), aic=-39.3685581784753)\n",
      "654 maxlag errors\n",
      "AL012014\n",
      "Best Model: ModelSelectionResults(order=(2, 2, 2), seasonal_order=(2, 2, 1, 7), aic=65.97997126890908)\n",
      "162 maxlag errors\n",
      "AL012015\n",
      "Best Model: ModelSelectionResults(order=(2, 0, 0), seasonal_order=(2, 1, 0, 7), aic=-38.02778240025245)\n",
      "432 maxlag errors\n",
      "AL012016\n",
      "Best Model: ModelSelectionResults(order=(2, 2, 2), seasonal_order=(2, 2, 0, 7), aic=30.445348715935054)\n",
      "243 maxlag errors\n",
      "AL012017\n",
      "Best Model: ModelSelectionResults(order=(2, 0, 0), seasonal_order=(2, 1, 0, 7), aic=-31.90657277574396)\n",
      "432 maxlag errors\n",
      "AL022007\n",
      "Best Model: ModelSelectionResults(order=(0, 0, 0), seasonal_order=(2, 1, 0, 7), aic=-43.96828388822574)\n",
      "477 maxlag errors\n",
      "1 linalg errors\n",
      "AL022008\n",
      "Best Model: ModelSelectionResults(order=(2, 1, 2), seasonal_order=(1, 2, 2, 7), aic=231.99127003566284)\n",
      "AL022009\n",
      "Best Model: ModelSelectionResults(order=(2, 0, 0), seasonal_order=(2, 1, 0, 7), aic=-32.91952217311869)\n",
      "432 maxlag errors\n",
      "AL022010\n",
      "Best Model: ModelSelectionResults(order=(2, 1, 0), seasonal_order=(1, 0, 0, 7), aic=-30.04144525004977)\n",
      "657 maxlag errors\n",
      "AL022011\n",
      "Best Model: ModelSelectionResults(order=(2, 2, 0), seasonal_order=(2, 1, 0, 7), aic=-41.304783073102115)\n",
      "396 maxlag errors\n",
      "AL022012\n",
      "Best Model: ModelSelectionResults(order=(0, 2, 1), seasonal_order=(2, 2, 0, 7), aic=-9.487844001716322)\n",
      "324 maxlag errors\n",
      "AL022013\n",
      "Best Model: ModelSelectionResults(order=(2, 1, 0), seasonal_order=(2, 0, 0, 7), aic=-49.289960639347065)\n",
      "573 maxlag errors\n",
      "AL022014\n",
      "Best Model: ModelSelectionResults(order=(1, 0, 0), seasonal_order=(0, 0, 0, 7), aic=-860.4405678320986)\n",
      "508 maxlag errors\n",
      "48 linalg errors\n",
      "AL022015\n",
      "Best Model: ModelSelectionResults(order=(2, 2, 0), seasonal_order=(1, 1, 0, 7), aic=-28.626781062217255)\n",
      "573 maxlag errors\n",
      "AL022016\n",
      "Inferred frequency None from passed values does not conform to passed frequency 6H\n",
      "AL022017\n",
      "too short!\n",
      "AL032007\n",
      "Best Model: ModelSelectionResults(order=(0, 0, 2), seasonal_order=(2, 1, 0, 7), aic=-25.856430018578024)\n",
      "477 maxlag errors\n",
      "AL032008\n",
      "Best Model: ModelSelectionResults(order=(1, 1, 1), seasonal_order=(2, 0, 0, 7), aic=-27.513992154359897)\n",
      "583 maxlag errors\n",
      "AL032009\n",
      "Best Model: ModelSelectionResults(order=(2, 2, 1), seasonal_order=(2, 2, 0, 7), aic=73.88173696899818)\n",
      "189 maxlag errors\n",
      "AL032010\n",
      "Best Model: ModelSelectionResults(order=(0, 0, 0), seasonal_order=(2, 0, 0, 7), aic=-49.38648610062606)\n",
      "550 maxlag errors\n",
      "1 linalg errors\n",
      "AL032011\n",
      "Best Model: ModelSelectionResults(order=(0, 2, 1), seasonal_order=(1, 0, 0, 7), aic=-80.24570864291043)\n",
      "654 maxlag errors\n",
      "AL032012\n",
      "Best Model: ModelSelectionResults(order=(0, 2, 0), seasonal_order=(2, 2, 0, 7), aic=-12.901320274218588)\n",
      "324 maxlag errors\n",
      "AL032013\n",
      "Best Model: ModelSelectionResults(order=(0, 0, 0), seasonal_order=(0, 2, 0, 7), aic=2.0)\n",
      "654 maxlag errors\n",
      "AL032014\n",
      "Best Model: ModelSelectionResults(order=(2, 0, 2), seasonal_order=(2, 2, 1, 7), aic=80.32394619798242)\n",
      "162 maxlag errors\n",
      "AL032015\n",
      "Best Model: ModelSelectionResults(order=(1, 1, 0), seasonal_order=(1, 0, 0, 7), aic=-77.15397101536261)\n",
      "550 maxlag errors\n",
      "1 linalg errors\n",
      "AL032016\n",
      "Best Model: ModelSelectionResults(order=(2, 2, 0), seasonal_order=(1, 0, 0, 7), aic=-29.732945529614156)\n",
      "651 maxlag errors\n",
      "AL032017\n",
      "Best Model: ModelSelectionResults(order=(1, 1, 0), seasonal_order=(2, 0, 0, 7), aic=-49.592717881950314)\n",
      "579 maxlag errors\n",
      "AL042007\n",
      "Best Model: ModelSelectionResults(order=(2, 2, 2), seasonal_order=(2, 2, 0, 7), aic=64.69973593791396)\n",
      "243 maxlag errors\n",
      "AL042008\n",
      "Inferred frequency None from passed values does not conform to passed frequency 6H\n",
      "AL042009\n",
      "too short!\n",
      "AL042010\n",
      "Best Model: ModelSelectionResults(order=(1, 0, 0), seasonal_order=(1, 2, 0, 7), aic=-16.75666881677435)\n",
      "432 maxlag errors\n",
      "2 linalg errors\n",
      "AL042011\n",
      "Best Model: ModelSelectionResults(order=(2, 1, 1), seasonal_order=(1, 0, 0, 7), aic=-40.919781750022906)\n",
      "654 maxlag errors\n",
      "AL042012\n",
      "Best Model: ModelSelectionResults(order=(0, 1, 0), seasonal_order=(2, 0, 0, 7), aic=-37.45825414525759)\n",
      "508 maxlag errors\n",
      "AL042013\n",
      "Best Model: ModelSelectionResults(order=(2, 2, 2), seasonal_order=(2, 2, 0, 7), aic=47.41358199925573)\n",
      "108 maxlag errors\n",
      "AL042014\n",
      "Best Model: ModelSelectionResults(order=(2, 2, 2), seasonal_order=(2, 2, 1, 7), aic=49.122939464201096)\n",
      "243 maxlag errors\n",
      "AL042015\n",
      "Best Model: ModelSelectionResults(order=(0, 2, 0), seasonal_order=(2, 2, 0, 7), aic=-12.400332733784332)\n",
      "324 maxlag errors\n",
      "AL042016\n",
      "Best Model: ModelSelectionResults(order=(1, 1, 1), seasonal_order=(1, 0, 0, 7), aic=-32.38705834767309)\n",
      "661 maxlag errors\n",
      "AL042017\n",
      "too short!\n",
      "AL052007\n",
      "Best Model: ModelSelectionResults(order=(2, 1, 1), seasonal_order=(2, 0, 0, 7), aic=-21.824509292073472)\n",
      "576 maxlag errors\n",
      "AL052008\n",
      "Best Model: ModelSelectionResults(order=(2, 2, 0), seasonal_order=(1, 0, 0, 7), aic=-32.86514348320172)\n",
      "651 maxlag errors\n",
      "AL052009\n",
      "Best Model: ModelSelectionResults(order=(2, 0, 1), seasonal_order=(1, 0, 0, 7), aic=-15.886519699969305)\n",
      "661 maxlag errors\n",
      "AL052010\n",
      "Best Model: ModelSelectionResults(order=(0, 2, 1), seasonal_order=(2, 2, 0, 7), aic=-22.931419824550257)\n",
      "324 maxlag errors\n",
      "AL052011\n",
      "Best Model: ModelSelectionResults(order=(1, 0, 0), seasonal_order=(2, 1, 0, 7), aic=-32.51354527716158)\n",
      "432 maxlag errors\n",
      "3 linalg errors\n",
      "AL052012\n"
     ]
    }
   ],
   "source": [
    "best_models = []\n",
    "\n",
    "for key, group in data.groupby(\"id\"):\n",
    "    print(key)\n",
    "    hurricane = group.copy()\n",
    "    \n",
    "    # There are other observations that don't occur on a regular schedule. Ignore any tropical event with those observations.\n",
    "    try:\n",
    "        date_index = pd.DatetimeIndex(hurricane[\"timestamp\"], freq=\"6H\")\n",
    "    except ValueError as e:\n",
    "        print(e)\n",
    "        continue # Reminder: \"continue\" means skip everything else and go to the next item in the loop\n",
    "    hurricane = hurricane.set_index(date_index)\n",
    "    \n",
    "    \n",
    "    max_seasonality_frequency = 10\n",
    "    \n",
    "    # Ignore hurricanes that do not have at least 10 observations\n",
    "    if hurricane.shape[0] <= max_seasonality_frequency:\n",
    "        print(\"too short!\")\n",
    "        continue\n",
    "    \n",
    "    models = []\n",
    "    maxlag_errors = 0\n",
    "    non_positive_definite_covariance_matrix_errors = 0\n",
    "    for param in pdq:\n",
    "        for param_seasonal in seasonal_pdq:\n",
    "            try:\n",
    "                with warnings.catch_warnings():\n",
    "                    warnings.filterwarnings(\"ignore\")\n",
    "                    mod = sm.tsa.statespace.SARIMAX(hurricane['min_pressure_mbar'],\n",
    "                                                    order=param,\n",
    "                                                    seasonal_order=param_seasonal,\n",
    "                                                    enforce_stationarity=False,\n",
    "                                                    enforce_invertibility=False)\n",
    "\n",
    "                    results = mod.fit()\n",
    "                models.append(ModelSelectionResults(order=param, seasonal_order=param_seasonal, aic=results.aic))\n",
    "            except ValueError as e:\n",
    "                if str(e) == \"maxlag should be < nobs\":\n",
    "                    maxlag_errors += 1\n",
    "                else:\n",
    "                    print(\"ValueError:\", e)\n",
    "                continue\n",
    "            except np.linalg.linalg.LinAlgError as e:\n",
    "                if str(e)[:54] == \"Non-positive-definite forecast error covariance matrix\":\n",
    "                    non_positive_definite_covariance_matrix_errors += 1\n",
    "                else:\n",
    "                    print(\"LinAlgError:\", e)\n",
    "                continue\n",
    "            except IndexError as e:\n",
    "                continue\n",
    "    best_model = min(models, default=None, key=lambda x: x.aic)\n",
    "    \n",
    "    print(\"Best Model:\", best_model)\n",
    "    \n",
    "    if maxlag_errors > 0:\n",
    "        print(maxlag_errors, \"maxlag errors\")\n",
    "    if non_positive_definite_covariance_matrix_errors > 0:\n",
    "        print(non_positive_definite_covariance_matrix_errors, \"linalg errors\")\n",
    "    \n",
    "    if best_model:\n",
    "        best_models.append(best_model)"
   ]
  },
  {
   "cell_type": "code",
   "execution_count": 103,
   "metadata": {},
   "outputs": [
    {
     "data": {
      "text/plain": [
       "0    1.346667\n",
       "1    1.140000\n",
       "2    0.773333\n",
       "3    1.660000\n",
       "4    1.180000\n",
       "5    0.293333\n",
       "6    7.000000\n",
       "dtype: float64"
      ]
     },
     "execution_count": 103,
     "metadata": {},
     "output_type": "execute_result"
    }
   ],
   "source": [
    "pd.DataFrame([x.order + x.seasonal_order for x in best_models]).mean()"
   ]
  },
  {
   "cell_type": "code",
   "execution_count": 104,
   "metadata": {},
   "outputs": [
    {
     "data": {
      "text/plain": [
       "0    1.0\n",
       "1    1.0\n",
       "2    1.0\n",
       "3    2.0\n",
       "4    1.0\n",
       "5    0.0\n",
       "6    7.0\n",
       "dtype: float64"
      ]
     },
     "execution_count": 104,
     "metadata": {},
     "output_type": "execute_result"
    }
   ],
   "source": [
    "pd.DataFrame([x.order + x.seasonal_order for x in best_models]).mean().round()"
   ]
  },
  {
   "cell_type": "code",
   "execution_count": 118,
   "metadata": {},
   "outputs": [
    {
     "data": {
      "text/plain": [
       "ar.L1      -0.288942\n",
       "ma.L1       0.999994\n",
       "ar.S.L7    -0.483538\n",
       "ar.S.L14   -0.438113\n",
       "dtype: float64"
      ]
     },
     "execution_count": 118,
     "metadata": {},
     "output_type": "execute_result"
    }
   ],
   "source": []
  },
  {
   "cell_type": "code",
   "execution_count": 40,
   "metadata": {},
   "outputs": [],
   "source": [
    "# So the mean best model is SARIMAX (1, 1, 1) x (1, 1, 0, 7)\n",
    "# Or, it's (1, 1, 1) x (2, 1, 0, 7)"
   ]
  },
  {
   "cell_type": "markdown",
   "metadata": {},
   "source": [
    "## Training an Average Model"
   ]
  },
  {
   "cell_type": "code",
   "execution_count": 12,
   "metadata": {},
   "outputs": [
    {
     "name": "stdout",
     "output_type": "stream",
     "text": [
      "ValueError: Length of passed values is 5, index implies 3\n",
      "ValueError: Length of passed values is 5, index implies 3\n",
      "ValueError: Length of passed values is 5, index implies 4\n"
     ]
    }
   ],
   "source": [
    "model_results = []\n",
    "hurricanes_with_results = []\n",
    "\n",
    "for key, group in data.groupby(\"id\"):\n",
    "    \n",
    "    hurricane = group.copy()\n",
    "    \n",
    "    # There are other observations that don't occur on a regular schedule. Ignore any tropical event with those observations.\n",
    "    try:\n",
    "        date_index = pd.DatetimeIndex(hurricane[\"timestamp\"], freq=\"6H\")\n",
    "    except ValueError as e:\n",
    "        # print(e)\n",
    "        continue # Reminder: \"continue\" means skip everything else and go to the next item in the loop\n",
    "    hurricane = hurricane.set_index(date_index)\n",
    "    \n",
    "    \n",
    "    max_seasonality_frequency = 10\n",
    "    \n",
    "    # Ignore hurricanes that do not have at least 10 observations\n",
    "    if hurricane.shape[0] <= max_seasonality_frequency:\n",
    "        # print(\"too short!\")\n",
    "        continue\n",
    " \n",
    "    try:\n",
    "        with warnings.catch_warnings():\n",
    "            warnings.filterwarnings(\"ignore\")\n",
    "            mod = sm.tsa.statespace.SARIMAX(hurricane['min_pressure_mbar'],\n",
    "                                            order=(1, 1, 1),\n",
    "                                            seasonal_order=(2, 1, 0, 7),\n",
    "                                            enforce_stationarity=False,\n",
    "                                            enforce_invertibility=False)\n",
    "\n",
    "            results = mod.fit()\n",
    "        params = results.params\n",
    "        coefficients = params[:-1] #remove the sigma squared/SE parameter\n",
    "        if ((coefficients < 1.0) & (coefficients > -1.0)).all():\n",
    "            model_results.append(results)\n",
    "            hurricanes_with_results.append(key)\n",
    "    except ValueError as e:\n",
    "        if str(e) == \"maxlag should be < nobs\":\n",
    "            pass\n",
    "        else:\n",
    "            print(\"ValueError:\", e)\n",
    "    except np.linalg.linalg.LinAlgError as e:\n",
    "        if str(e)[:54] == \"Non-positive-definite forecast error covariance matrix\":\n",
    "            pass\n",
    "        else:\n",
    "            print(\"LinAlgError:\", e)"
   ]
  },
  {
   "cell_type": "code",
   "execution_count": 13,
   "metadata": {},
   "outputs": [
    {
     "data": {
      "text/plain": [
       "ar.L1       0.510503\n",
       "ma.L1      -0.827198\n",
       "ar.S.L7    -0.465882\n",
       "ar.S.L14   -0.031570\n",
       "sigma2      0.309404\n",
       "dtype: float64"
      ]
     },
     "execution_count": 13,
     "metadata": {},
     "output_type": "execute_result"
    }
   ],
   "source": [
    "example_result = model_results[0]\n",
    "example_result.params"
   ]
  },
  {
   "cell_type": "code",
   "execution_count": 14,
   "metadata": {},
   "outputs": [],
   "source": [
    "result_params_list = []\n",
    "hurricanes_with_valid_results = []\n",
    "for hurricane_id, result in zip(hurricanes_with_results, model_results):\n",
    "    try:\n",
    "        result_params_list.append(result.params)\n",
    "        hurricanes_with_valid_results.append(hurricane_id)\n",
    "    except ValueError:\n",
    "        continue"
   ]
  },
  {
   "cell_type": "code",
   "execution_count": 15,
   "metadata": {},
   "outputs": [],
   "source": [
    "result_params = pd.DataFrame(result_params_list, index=hurricanes_with_valid_results)"
   ]
  },
  {
   "cell_type": "code",
   "execution_count": 16,
   "metadata": {},
   "outputs": [
    {
     "data": {
      "text/html": [
       "<div>\n",
       "<style scoped>\n",
       "    .dataframe tbody tr th:only-of-type {\n",
       "        vertical-align: middle;\n",
       "    }\n",
       "\n",
       "    .dataframe tbody tr th {\n",
       "        vertical-align: top;\n",
       "    }\n",
       "\n",
       "    .dataframe thead th {\n",
       "        text-align: right;\n",
       "    }\n",
       "</style>\n",
       "<table border=\"1\" class=\"dataframe\">\n",
       "  <thead>\n",
       "    <tr style=\"text-align: right;\">\n",
       "      <th></th>\n",
       "      <th>ar.L1</th>\n",
       "      <th>ma.L1</th>\n",
       "      <th>ar.S.L7</th>\n",
       "      <th>ar.S.L14</th>\n",
       "      <th>sigma2</th>\n",
       "    </tr>\n",
       "  </thead>\n",
       "  <tbody>\n",
       "    <tr>\n",
       "      <th>AL012007</th>\n",
       "      <td>0.510503</td>\n",
       "      <td>-0.827198</td>\n",
       "      <td>-0.465882</td>\n",
       "      <td>-0.031570</td>\n",
       "      <td>0.309404</td>\n",
       "    </tr>\n",
       "    <tr>\n",
       "      <th>AL012016</th>\n",
       "      <td>0.425325</td>\n",
       "      <td>0.999996</td>\n",
       "      <td>-0.805685</td>\n",
       "      <td>0.041884</td>\n",
       "      <td>1.401259</td>\n",
       "    </tr>\n",
       "    <tr>\n",
       "      <th>AL022008</th>\n",
       "      <td>0.335530</td>\n",
       "      <td>0.078554</td>\n",
       "      <td>-0.626238</td>\n",
       "      <td>-0.333394</td>\n",
       "      <td>14.133190</td>\n",
       "    </tr>\n",
       "    <tr>\n",
       "      <th>AL022012</th>\n",
       "      <td>-0.067617</td>\n",
       "      <td>0.646891</td>\n",
       "      <td>-0.432908</td>\n",
       "      <td>-0.003698</td>\n",
       "      <td>2.320836</td>\n",
       "    </tr>\n",
       "    <tr>\n",
       "      <th>AL032014</th>\n",
       "      <td>0.472001</td>\n",
       "      <td>0.055472</td>\n",
       "      <td>-0.830097</td>\n",
       "      <td>-0.718327</td>\n",
       "      <td>5.881988</td>\n",
       "    </tr>\n",
       "  </tbody>\n",
       "</table>\n",
       "</div>"
      ],
      "text/plain": [
       "             ar.L1     ma.L1   ar.S.L7  ar.S.L14     sigma2\n",
       "AL012007  0.510503 -0.827198 -0.465882 -0.031570   0.309404\n",
       "AL012016  0.425325  0.999996 -0.805685  0.041884   1.401259\n",
       "AL022008  0.335530  0.078554 -0.626238 -0.333394  14.133190\n",
       "AL022012 -0.067617  0.646891 -0.432908 -0.003698   2.320836\n",
       "AL032014  0.472001  0.055472 -0.830097 -0.718327   5.881988"
      ]
     },
     "execution_count": 16,
     "metadata": {},
     "output_type": "execute_result"
    }
   ],
   "source": [
    "result_params.head()"
   ]
  },
  {
   "cell_type": "code",
   "execution_count": 17,
   "metadata": {},
   "outputs": [
    {
     "data": {
      "text/html": [
       "<div>\n",
       "<style scoped>\n",
       "    .dataframe tbody tr th:only-of-type {\n",
       "        vertical-align: middle;\n",
       "    }\n",
       "\n",
       "    .dataframe tbody tr th {\n",
       "        vertical-align: top;\n",
       "    }\n",
       "\n",
       "    .dataframe thead th {\n",
       "        text-align: right;\n",
       "    }\n",
       "</style>\n",
       "<table border=\"1\" class=\"dataframe\">\n",
       "  <thead>\n",
       "    <tr style=\"text-align: right;\">\n",
       "      <th></th>\n",
       "      <th>ar.L1</th>\n",
       "      <th>ma.L1</th>\n",
       "      <th>ar.S.L7</th>\n",
       "      <th>ar.S.L14</th>\n",
       "      <th>sigma2</th>\n",
       "    </tr>\n",
       "  </thead>\n",
       "  <tbody>\n",
       "    <tr>\n",
       "      <th>count</th>\n",
       "      <td>45.000000</td>\n",
       "      <td>45.000000</td>\n",
       "      <td>45.000000</td>\n",
       "      <td>45.000000</td>\n",
       "      <td>45.000000</td>\n",
       "    </tr>\n",
       "    <tr>\n",
       "      <th>mean</th>\n",
       "      <td>0.459321</td>\n",
       "      <td>0.181827</td>\n",
       "      <td>-0.498201</td>\n",
       "      <td>-0.272071</td>\n",
       "      <td>11.789061</td>\n",
       "    </tr>\n",
       "    <tr>\n",
       "      <th>std</th>\n",
       "      <td>0.351924</td>\n",
       "      <td>0.584660</td>\n",
       "      <td>0.344689</td>\n",
       "      <td>0.281507</td>\n",
       "      <td>24.533532</td>\n",
       "    </tr>\n",
       "    <tr>\n",
       "      <th>min</th>\n",
       "      <td>-0.288942</td>\n",
       "      <td>-0.999997</td>\n",
       "      <td>-0.964166</td>\n",
       "      <td>-0.938148</td>\n",
       "      <td>0.096075</td>\n",
       "    </tr>\n",
       "    <tr>\n",
       "      <th>25%</th>\n",
       "      <td>0.335530</td>\n",
       "      <td>-0.195683</td>\n",
       "      <td>-0.716195</td>\n",
       "      <td>-0.382697</td>\n",
       "      <td>1.468939</td>\n",
       "    </tr>\n",
       "    <tr>\n",
       "      <th>50%</th>\n",
       "      <td>0.536880</td>\n",
       "      <td>0.055472</td>\n",
       "      <td>-0.561749</td>\n",
       "      <td>-0.270692</td>\n",
       "      <td>3.822015</td>\n",
       "    </tr>\n",
       "    <tr>\n",
       "      <th>75%</th>\n",
       "      <td>0.724700</td>\n",
       "      <td>0.646891</td>\n",
       "      <td>-0.342816</td>\n",
       "      <td>-0.121764</td>\n",
       "      <td>13.962917</td>\n",
       "    </tr>\n",
       "    <tr>\n",
       "      <th>max</th>\n",
       "      <td>0.884083</td>\n",
       "      <td>0.999996</td>\n",
       "      <td>0.890374</td>\n",
       "      <td>0.402254</td>\n",
       "      <td>156.931347</td>\n",
       "    </tr>\n",
       "  </tbody>\n",
       "</table>\n",
       "</div>"
      ],
      "text/plain": [
       "           ar.L1      ma.L1    ar.S.L7   ar.S.L14      sigma2\n",
       "count  45.000000  45.000000  45.000000  45.000000   45.000000\n",
       "mean    0.459321   0.181827  -0.498201  -0.272071   11.789061\n",
       "std     0.351924   0.584660   0.344689   0.281507   24.533532\n",
       "min    -0.288942  -0.999997  -0.964166  -0.938148    0.096075\n",
       "25%     0.335530  -0.195683  -0.716195  -0.382697    1.468939\n",
       "50%     0.536880   0.055472  -0.561749  -0.270692    3.822015\n",
       "75%     0.724700   0.646891  -0.342816  -0.121764   13.962917\n",
       "max     0.884083   0.999996   0.890374   0.402254  156.931347"
      ]
     },
     "execution_count": 17,
     "metadata": {},
     "output_type": "execute_result"
    }
   ],
   "source": [
    "result_params.describe()"
   ]
  },
  {
   "cell_type": "code",
   "execution_count": 18,
   "metadata": {},
   "outputs": [
    {
     "data": {
      "text/plain": [
       "<matplotlib.axes._subplots.AxesSubplot at 0x7f28319a7898>"
      ]
     },
     "execution_count": 18,
     "metadata": {},
     "output_type": "execute_result"
    },
    {
     "data": {
      "image/png": "[encoded data removed]",
      "text/plain": [
       "<Figure size 432x288 with 1 Axes>"
      ]
     },
     "metadata": {},
     "output_type": "display_data"
    }
   ],
   "source": [
    "result_params[\"ar.L1\"].plot.hist()"
   ]
  },
  {
   "cell_type": "markdown",
   "metadata": {},
   "source": [
    "# Let's try forecasting"
   ]
  },
  {
   "cell_type": "code",
   "execution_count": 37,
   "metadata": {},
   "outputs": [],
   "source": [
    "mean_params = result_params.mean()"
   ]
  },
  {
   "cell_type": "code",
   "execution_count": 51,
   "metadata": {},
   "outputs": [],
   "source": [
    "hurricane_irene = data[data.name == \"IRENE\"]\n",
    "hurricane_irene = hurricane_irene.set_index(pd.DatetimeIndex(hurricane_irene[\"timestamp\"], freq=\"6H\"))"
   ]
  },
  {
   "cell_type": "code",
   "execution_count": 52,
   "metadata": {},
   "outputs": [
    {
     "data": {
      "text/html": [
       "<div>\n",
       "<style scoped>\n",
       "    .dataframe tbody tr th:only-of-type {\n",
       "        vertical-align: middle;\n",
       "    }\n",
       "\n",
       "    .dataframe tbody tr th {\n",
       "        vertical-align: top;\n",
       "    }\n",
       "\n",
       "    .dataframe thead th {\n",
       "        text-align: right;\n",
       "    }\n",
       "</style>\n",
       "<table border=\"1\" class=\"dataframe\">\n",
       "  <thead>\n",
       "    <tr style=\"text-align: right;\">\n",
       "      <th></th>\n",
       "      <th>id</th>\n",
       "      <th>name</th>\n",
       "      <th>timestamp</th>\n",
       "      <th>status</th>\n",
       "      <th>latitude</th>\n",
       "      <th>longitude</th>\n",
       "      <th>wind_kt</th>\n",
       "      <th>min_pressure_mbar</th>\n",
       "      <th>sea_temp_degc</th>\n",
       "    </tr>\n",
       "    <tr>\n",
       "      <th>timestamp</th>\n",
       "      <th></th>\n",
       "      <th></th>\n",
       "      <th></th>\n",
       "      <th></th>\n",
       "      <th></th>\n",
       "      <th></th>\n",
       "      <th></th>\n",
       "      <th></th>\n",
       "      <th></th>\n",
       "    </tr>\n",
       "  </thead>\n",
       "  <tbody>\n",
       "    <tr>\n",
       "      <th>2011-08-29 00:00:00</th>\n",
       "      <td>AL092011</td>\n",
       "      <td>IRENE</td>\n",
       "      <td>2011-08-29 00:00:00</td>\n",
       "      <td>EX</td>\n",
       "      <td>44.2</td>\n",
       "      <td>-72.1</td>\n",
       "      <td>45</td>\n",
       "      <td>979</td>\n",
       "      <td>NaN</td>\n",
       "    </tr>\n",
       "    <tr>\n",
       "      <th>2011-08-29 06:00:00</th>\n",
       "      <td>AL092011</td>\n",
       "      <td>IRENE</td>\n",
       "      <td>2011-08-29 06:00:00</td>\n",
       "      <td>EX</td>\n",
       "      <td>46.5</td>\n",
       "      <td>-69.5</td>\n",
       "      <td>40</td>\n",
       "      <td>983</td>\n",
       "      <td>NaN</td>\n",
       "    </tr>\n",
       "    <tr>\n",
       "      <th>2011-08-29 12:00:00</th>\n",
       "      <td>AL092011</td>\n",
       "      <td>IRENE</td>\n",
       "      <td>2011-08-29 12:00:00</td>\n",
       "      <td>EX</td>\n",
       "      <td>49.1</td>\n",
       "      <td>-66.7</td>\n",
       "      <td>40</td>\n",
       "      <td>985</td>\n",
       "      <td>11.97</td>\n",
       "    </tr>\n",
       "    <tr>\n",
       "      <th>2011-08-29 18:00:00</th>\n",
       "      <td>AL092011</td>\n",
       "      <td>IRENE</td>\n",
       "      <td>2011-08-29 18:00:00</td>\n",
       "      <td>EX</td>\n",
       "      <td>51.3</td>\n",
       "      <td>-63.8</td>\n",
       "      <td>40</td>\n",
       "      <td>987</td>\n",
       "      <td>NaN</td>\n",
       "    </tr>\n",
       "    <tr>\n",
       "      <th>2011-08-30 00:00:00</th>\n",
       "      <td>AL092011</td>\n",
       "      <td>IRENE</td>\n",
       "      <td>2011-08-30 00:00:00</td>\n",
       "      <td>EX</td>\n",
       "      <td>53.0</td>\n",
       "      <td>-60.0</td>\n",
       "      <td>40</td>\n",
       "      <td>991</td>\n",
       "      <td>NaN</td>\n",
       "    </tr>\n",
       "  </tbody>\n",
       "</table>\n",
       "</div>"
      ],
      "text/plain": [
       "                           id   name           timestamp status  latitude  \\\n",
       "timestamp                                                                   \n",
       "2011-08-29 00:00:00  AL092011  IRENE 2011-08-29 00:00:00     EX      44.2   \n",
       "2011-08-29 06:00:00  AL092011  IRENE 2011-08-29 06:00:00     EX      46.5   \n",
       "2011-08-29 12:00:00  AL092011  IRENE 2011-08-29 12:00:00     EX      49.1   \n",
       "2011-08-29 18:00:00  AL092011  IRENE 2011-08-29 18:00:00     EX      51.3   \n",
       "2011-08-30 00:00:00  AL092011  IRENE 2011-08-30 00:00:00     EX      53.0   \n",
       "\n",
       "                     longitude  wind_kt  min_pressure_mbar  sea_temp_degc  \n",
       "timestamp                                                                  \n",
       "2011-08-29 00:00:00      -72.1       45                979            NaN  \n",
       "2011-08-29 06:00:00      -69.5       40                983            NaN  \n",
       "2011-08-29 12:00:00      -66.7       40                985          11.97  \n",
       "2011-08-29 18:00:00      -63.8       40                987            NaN  \n",
       "2011-08-30 00:00:00      -60.0       40                991            NaN  "
      ]
     },
     "execution_count": 52,
     "metadata": {},
     "output_type": "execute_result"
    }
   ],
   "source": [
    "hurricane_irene.tail()"
   ]
  },
  {
   "cell_type": "code",
   "execution_count": 53,
   "metadata": {},
   "outputs": [],
   "source": [
    "irene_mod = sm.tsa.statespace.SARIMAX(hurricane_irene['min_pressure_mbar'],\n",
    "                                      order=(1, 1, 1),\n",
    "                                      seasonal_order=(2, 1, 0, 7),\n",
    "                                      enforce_stationarity=False,\n",
    "                                      enforce_invertibility=False)\n",
    "\n",
    "irene_results = irene_mod.filter(mean_params)"
   ]
  },
  {
   "cell_type": "code",
   "execution_count": 54,
   "metadata": {},
   "outputs": [
    {
     "data": {
      "text/plain": [
       "<statsmodels.tsa.statespace.mlemodel.PredictionResultsWrapper at 0x7f282cbedcc0>"
      ]
     },
     "execution_count": 54,
     "metadata": {},
     "output_type": "execute_result"
    }
   ],
   "source": [
    "irene_prediction = irene_results.get_forecast(5)\n",
    "irene_prediction"
   ]
  },
  {
   "cell_type": "code",
   "execution_count": 55,
   "metadata": {},
   "outputs": [
    {
     "data": {
      "text/plain": [
       "<statsmodels.tsa.statespace.mlemodel.PredictionResultsWrapper at 0x7f282cbedcc0>"
      ]
     },
     "execution_count": 55,
     "metadata": {},
     "output_type": "execute_result"
    }
   ],
   "source": [
    "irene_prediction"
   ]
  },
  {
   "cell_type": "code",
   "execution_count": 57,
   "metadata": {},
   "outputs": [
    {
     "data": {
      "image/png": "[encoded data removed]",
      "text/plain": [
       "<Figure size 1440x1080 with 1 Axes>"
      ]
     },
     "metadata": {},
     "output_type": "display_data"
    }
   ],
   "source": [
    "# Get forecast 5 steps ahead in future\n",
    "irene_prediction = irene_results.get_forecast(steps=10)\n",
    "\n",
    "# Get confidence intervals of forecasts\n",
    "irene_prediction_ci = irene_prediction.conf_int()\n",
    "\n",
    "ax = hurricane_irene['min_pressure_mbar'].plot(label='observed', figsize=(20, 15))\n",
    "irene_prediction.predicted_mean.plot(ax=ax, label='Forecast')\n",
    "\n",
    "ax.fill_between(irene_prediction_ci.index,\n",
    "                irene_prediction_ci.iloc[:, 0],\n",
    "                irene_prediction_ci.iloc[:, 1], color='k', alpha=.25)\n",
    "ax.set_xlabel('Date')\n",
    "ax.set_ylabel('Minimum Pressure')\n",
    "\n",
    "plt.legend()\n",
    "plt.show()"
   ]
  },
  {
   "cell_type": "code",
   "execution_count": null,
   "metadata": {},
   "outputs": [],
   "source": []
  }
 ],
 "metadata": {
  "kernelspec": {
   "display_name": "Python 3",
   "language": "python",
   "name": "python3"
  },
  "language_info": {
   "codemirror_mode": {
    "name": "ipython",
    "version": 3
   },
   "file_extension": ".py",
   "mimetype": "text/x-python",
   "name": "python",
   "nbconvert_exporter": "python",
   "pygments_lexer": "ipython3",
   "version": "3.5.2"
  }
 },
 "nbformat": 4,
 "nbformat_minor": 2
}
